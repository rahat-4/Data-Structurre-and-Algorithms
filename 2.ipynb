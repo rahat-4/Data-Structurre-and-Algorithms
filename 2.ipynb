{
  "nbformat": 4,
  "nbformat_minor": 0,
  "metadata": {
    "colab": {
      "name": "2.ipynb",
      "provenance": [],
      "authorship_tag": "ABX9TyNVoIsfapyiUxAXsxZ6No9r",
      "include_colab_link": true
    },
    "kernelspec": {
      "name": "python3",
      "display_name": "Python 3"
    },
    "language_info": {
      "name": "python"
    }
  },
  "cells": [
    {
      "cell_type": "markdown",
      "metadata": {
        "id": "view-in-github",
        "colab_type": "text"
      },
      "source": [
        "<a href=\"https://colab.research.google.com/github/rahat-4/Data-Structurre-and-Algorithms/blob/main/2.ipynb\" target=\"_parent\"><img src=\"https://colab.research.google.com/assets/colab-badge.svg\" alt=\"Open In Colab\"/></a>"
      ]
    },
    {
      "cell_type": "code",
      "metadata": {
        "colab": {
          "base_uri": "https://localhost:8080/"
        },
        "id": "YdldXEEOEe8R",
        "outputId": "7e5fa1d8-1c1e-424e-aca9-825631dee5c9"
      },
      "source": [
        "name = input(\"What is your name: \")"
      ],
      "execution_count": 6,
      "outputs": [
        {
          "output_type": "stream",
          "text": [
            "What is your name: Rahat\n"
          ],
          "name": "stdout"
        }
      ]
    },
    {
      "cell_type": "code",
      "metadata": {
        "colab": {
          "base_uri": "https://localhost:8080/"
        },
        "id": "NrpcgdO7FqY4",
        "outputId": "81320cf3-fc16-4e7f-d61b-185c330d1968"
      },
      "source": [
        "age = int(input(\"How old are you: \"))"
      ],
      "execution_count": 7,
      "outputs": [
        {
          "output_type": "stream",
          "text": [
            "How old are you: 26\n"
          ],
          "name": "stdout"
        }
      ]
    },
    {
      "cell_type": "code",
      "metadata": {
        "id": "r0zscPqQLMBM"
      },
      "source": [
        "year = (2021+(100-age))"
      ],
      "execution_count": 8,
      "outputs": []
    },
    {
      "cell_type": "code",
      "metadata": {
        "colab": {
          "base_uri": "https://localhost:8080/"
        },
        "id": "NzSEZ4HTF5Co",
        "outputId": "92f12d5a-234e-4e34-fae9-5d13e5e48530"
      },
      "source": [
        "print(name, \" will be 100 years old in the year \", year)"
      ],
      "execution_count": 10,
      "outputs": [
        {
          "output_type": "stream",
          "text": [
            "Rahat  will be 100 years old in the year  2095\n"
          ],
          "name": "stdout"
        }
      ]
    }
  ]
}